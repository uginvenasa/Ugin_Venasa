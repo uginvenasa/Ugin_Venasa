{
  "nbformat": 4,
  "nbformat_minor": 0,
  "metadata": {
    "colab": {
      "provenance": []
    },
    "kernelspec": {
      "name": "python3",
      "display_name": "Python 3"
    },
    "language_info": {
      "name": "python"
    },
    "widgets": {
      "application/vnd.jupyter.widget-state+json": {
        "e7e7d2ea22144011b1780ce32e5923ab": {
          "model_module": "@jupyter-widgets/controls",
          "model_name": "HBoxModel",
          "model_module_version": "1.5.0",
          "state": {
            "_dom_classes": [],
            "_model_module": "@jupyter-widgets/controls",
            "_model_module_version": "1.5.0",
            "_model_name": "HBoxModel",
            "_view_count": null,
            "_view_module": "@jupyter-widgets/controls",
            "_view_module_version": "1.5.0",
            "_view_name": "HBoxView",
            "box_style": "",
            "children": [
              "IPY_MODEL_2855c7b2f2334384a8e1544289430384",
              "IPY_MODEL_199ed86d52554bd9922589b926c04a61",
              "IPY_MODEL_cb6f22916af94897b391194be717d25f"
            ],
            "layout": "IPY_MODEL_fd8dc0cf7543408b8438945dd177c75e"
          }
        },
        "2855c7b2f2334384a8e1544289430384": {
          "model_module": "@jupyter-widgets/controls",
          "model_name": "HTMLModel",
          "model_module_version": "1.5.0",
          "state": {
            "_dom_classes": [],
            "_model_module": "@jupyter-widgets/controls",
            "_model_module_version": "1.5.0",
            "_model_name": "HTMLModel",
            "_view_count": null,
            "_view_module": "@jupyter-widgets/controls",
            "_view_module_version": "1.5.0",
            "_view_name": "HTMLView",
            "description": "",
            "description_tooltip": null,
            "layout": "IPY_MODEL_1efb73448a914438b1d0119aa2e42afd",
            "placeholder": "​",
            "style": "IPY_MODEL_201c05e06b6a45b49f0202247dad3611",
            "value": "100%"
          }
        },
        "199ed86d52554bd9922589b926c04a61": {
          "model_module": "@jupyter-widgets/controls",
          "model_name": "FloatProgressModel",
          "model_module_version": "1.5.0",
          "state": {
            "_dom_classes": [],
            "_model_module": "@jupyter-widgets/controls",
            "_model_module_version": "1.5.0",
            "_model_name": "FloatProgressModel",
            "_view_count": null,
            "_view_module": "@jupyter-widgets/controls",
            "_view_module_version": "1.5.0",
            "_view_name": "ProgressView",
            "bar_style": "success",
            "description": "",
            "description_tooltip": null,
            "layout": "IPY_MODEL_293444f4894949bdbd1e7a4ce2c259c8",
            "max": 15,
            "min": 0,
            "orientation": "horizontal",
            "style": "IPY_MODEL_23b8a450fad74a588b5b35e95e18b0be",
            "value": 15
          }
        },
        "cb6f22916af94897b391194be717d25f": {
          "model_module": "@jupyter-widgets/controls",
          "model_name": "HTMLModel",
          "model_module_version": "1.5.0",
          "state": {
            "_dom_classes": [],
            "_model_module": "@jupyter-widgets/controls",
            "_model_module_version": "1.5.0",
            "_model_name": "HTMLModel",
            "_view_count": null,
            "_view_module": "@jupyter-widgets/controls",
            "_view_module_version": "1.5.0",
            "_view_name": "HTMLView",
            "description": "",
            "description_tooltip": null,
            "layout": "IPY_MODEL_937d012da6774cf8b1f67a1d4cd9578f",
            "placeholder": "​",
            "style": "IPY_MODEL_fac69a31cddc41c3b83b58ece6af8960",
            "value": " 15/15 [00:02&lt;00:00,  6.33it/s]"
          }
        },
        "fd8dc0cf7543408b8438945dd177c75e": {
          "model_module": "@jupyter-widgets/base",
          "model_name": "LayoutModel",
          "model_module_version": "1.2.0",
          "state": {
            "_model_module": "@jupyter-widgets/base",
            "_model_module_version": "1.2.0",
            "_model_name": "LayoutModel",
            "_view_count": null,
            "_view_module": "@jupyter-widgets/base",
            "_view_module_version": "1.2.0",
            "_view_name": "LayoutView",
            "align_content": null,
            "align_items": null,
            "align_self": null,
            "border": null,
            "bottom": null,
            "display": null,
            "flex": null,
            "flex_flow": null,
            "grid_area": null,
            "grid_auto_columns": null,
            "grid_auto_flow": null,
            "grid_auto_rows": null,
            "grid_column": null,
            "grid_gap": null,
            "grid_row": null,
            "grid_template_areas": null,
            "grid_template_columns": null,
            "grid_template_rows": null,
            "height": null,
            "justify_content": null,
            "justify_items": null,
            "left": null,
            "margin": null,
            "max_height": null,
            "max_width": null,
            "min_height": null,
            "min_width": null,
            "object_fit": null,
            "object_position": null,
            "order": null,
            "overflow": null,
            "overflow_x": null,
            "overflow_y": null,
            "padding": null,
            "right": null,
            "top": null,
            "visibility": null,
            "width": null
          }
        },
        "1efb73448a914438b1d0119aa2e42afd": {
          "model_module": "@jupyter-widgets/base",
          "model_name": "LayoutModel",
          "model_module_version": "1.2.0",
          "state": {
            "_model_module": "@jupyter-widgets/base",
            "_model_module_version": "1.2.0",
            "_model_name": "LayoutModel",
            "_view_count": null,
            "_view_module": "@jupyter-widgets/base",
            "_view_module_version": "1.2.0",
            "_view_name": "LayoutView",
            "align_content": null,
            "align_items": null,
            "align_self": null,
            "border": null,
            "bottom": null,
            "display": null,
            "flex": null,
            "flex_flow": null,
            "grid_area": null,
            "grid_auto_columns": null,
            "grid_auto_flow": null,
            "grid_auto_rows": null,
            "grid_column": null,
            "grid_gap": null,
            "grid_row": null,
            "grid_template_areas": null,
            "grid_template_columns": null,
            "grid_template_rows": null,
            "height": null,
            "justify_content": null,
            "justify_items": null,
            "left": null,
            "margin": null,
            "max_height": null,
            "max_width": null,
            "min_height": null,
            "min_width": null,
            "object_fit": null,
            "object_position": null,
            "order": null,
            "overflow": null,
            "overflow_x": null,
            "overflow_y": null,
            "padding": null,
            "right": null,
            "top": null,
            "visibility": null,
            "width": null
          }
        },
        "201c05e06b6a45b49f0202247dad3611": {
          "model_module": "@jupyter-widgets/controls",
          "model_name": "DescriptionStyleModel",
          "model_module_version": "1.5.0",
          "state": {
            "_model_module": "@jupyter-widgets/controls",
            "_model_module_version": "1.5.0",
            "_model_name": "DescriptionStyleModel",
            "_view_count": null,
            "_view_module": "@jupyter-widgets/base",
            "_view_module_version": "1.2.0",
            "_view_name": "StyleView",
            "description_width": ""
          }
        },
        "293444f4894949bdbd1e7a4ce2c259c8": {
          "model_module": "@jupyter-widgets/base",
          "model_name": "LayoutModel",
          "model_module_version": "1.2.0",
          "state": {
            "_model_module": "@jupyter-widgets/base",
            "_model_module_version": "1.2.0",
            "_model_name": "LayoutModel",
            "_view_count": null,
            "_view_module": "@jupyter-widgets/base",
            "_view_module_version": "1.2.0",
            "_view_name": "LayoutView",
            "align_content": null,
            "align_items": null,
            "align_self": null,
            "border": null,
            "bottom": null,
            "display": null,
            "flex": null,
            "flex_flow": null,
            "grid_area": null,
            "grid_auto_columns": null,
            "grid_auto_flow": null,
            "grid_auto_rows": null,
            "grid_column": null,
            "grid_gap": null,
            "grid_row": null,
            "grid_template_areas": null,
            "grid_template_columns": null,
            "grid_template_rows": null,
            "height": null,
            "justify_content": null,
            "justify_items": null,
            "left": null,
            "margin": null,
            "max_height": null,
            "max_width": null,
            "min_height": null,
            "min_width": null,
            "object_fit": null,
            "object_position": null,
            "order": null,
            "overflow": null,
            "overflow_x": null,
            "overflow_y": null,
            "padding": null,
            "right": null,
            "top": null,
            "visibility": null,
            "width": null
          }
        },
        "23b8a450fad74a588b5b35e95e18b0be": {
          "model_module": "@jupyter-widgets/controls",
          "model_name": "ProgressStyleModel",
          "model_module_version": "1.5.0",
          "state": {
            "_model_module": "@jupyter-widgets/controls",
            "_model_module_version": "1.5.0",
            "_model_name": "ProgressStyleModel",
            "_view_count": null,
            "_view_module": "@jupyter-widgets/base",
            "_view_module_version": "1.2.0",
            "_view_name": "StyleView",
            "bar_color": null,
            "description_width": ""
          }
        },
        "937d012da6774cf8b1f67a1d4cd9578f": {
          "model_module": "@jupyter-widgets/base",
          "model_name": "LayoutModel",
          "model_module_version": "1.2.0",
          "state": {
            "_model_module": "@jupyter-widgets/base",
            "_model_module_version": "1.2.0",
            "_model_name": "LayoutModel",
            "_view_count": null,
            "_view_module": "@jupyter-widgets/base",
            "_view_module_version": "1.2.0",
            "_view_name": "LayoutView",
            "align_content": null,
            "align_items": null,
            "align_self": null,
            "border": null,
            "bottom": null,
            "display": null,
            "flex": null,
            "flex_flow": null,
            "grid_area": null,
            "grid_auto_columns": null,
            "grid_auto_flow": null,
            "grid_auto_rows": null,
            "grid_column": null,
            "grid_gap": null,
            "grid_row": null,
            "grid_template_areas": null,
            "grid_template_columns": null,
            "grid_template_rows": null,
            "height": null,
            "justify_content": null,
            "justify_items": null,
            "left": null,
            "margin": null,
            "max_height": null,
            "max_width": null,
            "min_height": null,
            "min_width": null,
            "object_fit": null,
            "object_position": null,
            "order": null,
            "overflow": null,
            "overflow_x": null,
            "overflow_y": null,
            "padding": null,
            "right": null,
            "top": null,
            "visibility": null,
            "width": null
          }
        },
        "fac69a31cddc41c3b83b58ece6af8960": {
          "model_module": "@jupyter-widgets/controls",
          "model_name": "DescriptionStyleModel",
          "model_module_version": "1.5.0",
          "state": {
            "_model_module": "@jupyter-widgets/controls",
            "_model_module_version": "1.5.0",
            "_model_name": "DescriptionStyleModel",
            "_view_count": null,
            "_view_module": "@jupyter-widgets/base",
            "_view_module_version": "1.2.0",
            "_view_name": "StyleView",
            "description_width": ""
          }
        }
      }
    }
  },
  "cells": [
    {
      "cell_type": "code",
      "execution_count": null,
      "metadata": {
        "colab": {
          "base_uri": "https://localhost:8080/"
        },
        "id": "bajHsWR5UFQG",
        "outputId": "f3058a60-26ab-4c2d-d022-55e91b1ba842"
      },
      "outputs": [
        {
          "output_type": "stream",
          "name": "stdout",
          "text": [
            "Requirement already satisfied: pandas in /usr/local/lib/python3.10/dist-packages (2.2.2)\n",
            "Requirement already satisfied: numpy in /usr/local/lib/python3.10/dist-packages (1.26.4)\n",
            "Requirement already satisfied: scikit-learn in /usr/local/lib/python3.10/dist-packages (1.5.2)\n",
            "Requirement already satisfied: python-dateutil>=2.8.2 in /usr/local/lib/python3.10/dist-packages (from pandas) (2.8.2)\n",
            "Requirement already satisfied: pytz>=2020.1 in /usr/local/lib/python3.10/dist-packages (from pandas) (2024.2)\n",
            "Requirement already satisfied: tzdata>=2022.7 in /usr/local/lib/python3.10/dist-packages (from pandas) (2024.2)\n",
            "Requirement already satisfied: scipy>=1.6.0 in /usr/local/lib/python3.10/dist-packages (from scikit-learn) (1.13.1)\n",
            "Requirement already satisfied: joblib>=1.2.0 in /usr/local/lib/python3.10/dist-packages (from scikit-learn) (1.4.2)\n",
            "Requirement already satisfied: threadpoolctl>=3.1.0 in /usr/local/lib/python3.10/dist-packages (from scikit-learn) (3.5.0)\n",
            "Requirement already satisfied: six>=1.5 in /usr/local/lib/python3.10/dist-packages (from python-dateutil>=2.8.2->pandas) (1.16.0)\n"
          ]
        }
      ],
      "source": [
        "pip install pandas numpy scikit-learn\n"
      ]
    },
    {
      "cell_type": "code",
      "source": [
        "!pip install implicit"
      ],
      "metadata": {
        "colab": {
          "base_uri": "https://localhost:8080/"
        },
        "id": "rsHDonvIackg",
        "outputId": "aab38c09-1ede-474c-8abd-1975999b5507"
      },
      "execution_count": null,
      "outputs": [
        {
          "output_type": "stream",
          "name": "stdout",
          "text": [
            "Collecting implicit\n",
            "  Downloading implicit-0.7.2-cp310-cp310-manylinux2014_x86_64.whl.metadata (6.1 kB)\n",
            "Requirement already satisfied: numpy>=1.17.0 in /usr/local/lib/python3.10/dist-packages (from implicit) (1.26.4)\n",
            "Requirement already satisfied: scipy>=0.16 in /usr/local/lib/python3.10/dist-packages (from implicit) (1.13.1)\n",
            "Requirement already satisfied: tqdm>=4.27 in /usr/local/lib/python3.10/dist-packages (from implicit) (4.66.6)\n",
            "Requirement already satisfied: threadpoolctl in /usr/local/lib/python3.10/dist-packages (from implicit) (3.5.0)\n",
            "Downloading implicit-0.7.2-cp310-cp310-manylinux2014_x86_64.whl (8.9 MB)\n",
            "\u001b[2K   \u001b[90m━━━━━━━━━━━━━━━━━━━━━━━━━━━━━━━━━━━━━━━━\u001b[0m \u001b[32m8.9/8.9 MB\u001b[0m \u001b[31m43.1 MB/s\u001b[0m eta \u001b[36m0:00:00\u001b[0m\n",
            "\u001b[?25hInstalling collected packages: implicit\n",
            "Successfully installed implicit-0.7.2\n"
          ]
        }
      ]
    },
    {
      "cell_type": "code",
      "source": [],
      "metadata": {
        "id": "dk5Ll_pnjovQ"
      },
      "execution_count": null,
      "outputs": []
    },
    {
      "cell_type": "markdown",
      "source": [
        "**Description:** Develop a recommendation engine using collaborative filtering and content-based methods to suggest products to customers based on their past behavior\n",
        "and preferences.\n",
        "Use Case: E-commerce giants like Amazon and Netflix use ML to deliver personalized recommendations,\n",
        "increasing user engagement and sales. Students can work on building a recommendation system\n",
        "using datasets like MovieLens or Amazon Reviews to offer personalized shopping experiences."
      ],
      "metadata": {
        "id": "zjKK6EzPimX_"
      }
    },
    {
      "cell_type": "markdown",
      "source": [
        "The ratings dataset contains user-generated movie ratings. Each row represents a single rating for a movie, with information about the user who made the rating, the movie they rated, and the rating itself. This dataset is essential for collaborative filtering, as it allows us to predict the rating a user might give to unseen movies.               \n",
        "\n",
        "The movies dataset contains information about movies, including the title and the genres they belong to. This dataset is crucial for content-based filtering, where recommendations are made based on the content features of the movies (e.g., genres, keywords)."
      ],
      "metadata": {
        "id": "O7HCBUWgjpXC"
      }
    },
    {
      "cell_type": "code",
      "source": [
        "\n",
        "ratings_url = 'movies.csv'\n",
        "movies_url = 'ratings.csv'\n",
        "\n",
        "ratings = pd.read_csv(ratings_url)\n",
        "movies = pd.read_csv(movies_url)\n",
        "\n",
        "print(ratings.head())\n",
        "print(movies.head())\n",
        "\n"
      ],
      "metadata": {
        "colab": {
          "base_uri": "https://localhost:8080/"
        },
        "id": "9NhyPJ8nU-I5",
        "outputId": "45ae512a-ba09-410e-ed2e-3ea7fd3dacee"
      },
      "execution_count": null,
      "outputs": [
        {
          "output_type": "stream",
          "name": "stdout",
          "text": [
            "   movieId                               title  \\\n",
            "0        1                    Toy Story (1995)   \n",
            "1        2                      Jumanji (1995)   \n",
            "2        3             Grumpier Old Men (1995)   \n",
            "3        4            Waiting to Exhale (1995)   \n",
            "4        5  Father of the Bride Part II (1995)   \n",
            "\n",
            "                                        genres  \n",
            "0  Adventure|Animation|Children|Comedy|Fantasy  \n",
            "1                   Adventure|Children|Fantasy  \n",
            "2                               Comedy|Romance  \n",
            "3                         Comedy|Drama|Romance  \n",
            "4                                       Comedy  \n",
            "   userId  movieId  rating  timestamp\n",
            "0       1        1     4.0  964982703\n",
            "1       1        3     4.0  964981247\n",
            "2       1        6     4.0  964982224\n",
            "3       1       47     5.0  964983815\n",
            "4       1       50     5.0  964982931\n"
          ]
        }
      ]
    },
    {
      "cell_type": "code",
      "source": [
        "\n",
        "print(ratings.columns)\n"
      ],
      "metadata": {
        "colab": {
          "base_uri": "https://localhost:8080/"
        },
        "id": "_j0YxFS2dwsR",
        "outputId": "056a1e47-9a27-49b4-84a0-b3ab57692057"
      },
      "execution_count": null,
      "outputs": [
        {
          "output_type": "stream",
          "name": "stdout",
          "text": [
            "Index(['movieId', 'title', 'genres'], dtype='object')\n"
          ]
        }
      ]
    },
    {
      "cell_type": "code",
      "source": [
        "print(movies.columns)\n"
      ],
      "metadata": {
        "colab": {
          "base_uri": "https://localhost:8080/"
        },
        "id": "RmKBlPb_dz0A",
        "outputId": "841a717f-ce64-4b58-ea89-798a39598fb2"
      },
      "execution_count": null,
      "outputs": [
        {
          "output_type": "stream",
          "name": "stdout",
          "text": [
            "Index(['userId', 'movieId', 'rating', 'timestamp'], dtype='object')\n"
          ]
        }
      ]
    },
    {
      "cell_type": "markdown",
      "source": [
        "**Libraries Used:**\n",
        "**pandas:** For data manipulation and reading CSV files.\n",
        "**scipy.sparse:** Provides sparse matrix representation, which is used to efficiently store the user-item matrix for ALS.\n",
        "**implicit.als:** The ALS algorithm from the implicit library, which is used for collaborative filtering on implicit feedback (e.g., ratings data)."
      ],
      "metadata": {
        "id": "rHXmxGmakBgS"
      }
    },
    {
      "cell_type": "code",
      "source": [
        "import pandas as pd\n",
        "from scipy.sparse import csr_matrix\n",
        "from implicit.als import AlternatingLeastSquares\n",
        "\n",
        "\n",
        "ratings_url = 'ratings.csv'\n",
        "movies_url = 'movies.csv'\n",
        "ratings = pd.read_csv(ratings_url)\n",
        "movies = pd.read_csv(movies_url)\n",
        "print(\"Ratings columns:\", ratings.columns)\n",
        "print(\"Movies columns:\", movies.columns)\n",
        "\n",
        "user_movie_matrix = ratings.pivot(index='userId', columns='movieId', values='rating').fillna(0)\n",
        "\n",
        "user_movie_sparse = csr_matrix(user_movie_matrix.values)\n",
        "\n",
        "\n",
        "model = AlternatingLeastSquares(factors=50, regularization=0.1, iterations=15)\n",
        "model.fit(user_movie_sparse)\n",
        "\n",
        "\n",
        "def get_als_recommendations(user_id, top_n=10):\n",
        "\n",
        "    if user_id not in user_movie_matrix.index:\n",
        "        raise ValueError(f\"User ID {user_id} not found in the user-item matrix.\")\n",
        "\n",
        "\n",
        "    user_idx = user_movie_matrix.index.get_loc(user_id)\n",
        "\n",
        "\n",
        "    user_interactions = user_movie_sparse[user_idx]\n",
        "\n",
        "\n",
        "    recommendations = model.recommend(user_idx, user_interactions, N=top_n, filter_already_liked_items=True)\n",
        "\n",
        "\n",
        "    recommended_movie_ids = [movie[0] for movie in recommendations]\n",
        "\n",
        "\n",
        "    recommended_movie_titles = movies[movies['movieId'].isin(recommended_movie_ids)]['title'].tolist()\n",
        "\n",
        "    return recommended_movie_titles\n",
        "\n",
        "\n",
        "als_recommendations = get_als_recommendations(user_id=1, top_n=10)\n",
        "print(\"Top 10 ALS Recommendations:\", als_recommendations)"
      ],
      "metadata": {
        "colab": {
          "base_uri": "https://localhost:8080/",
          "height": 104,
          "referenced_widgets": [
            "e7e7d2ea22144011b1780ce32e5923ab",
            "2855c7b2f2334384a8e1544289430384",
            "199ed86d52554bd9922589b926c04a61",
            "cb6f22916af94897b391194be717d25f",
            "fd8dc0cf7543408b8438945dd177c75e",
            "1efb73448a914438b1d0119aa2e42afd",
            "201c05e06b6a45b49f0202247dad3611",
            "293444f4894949bdbd1e7a4ce2c259c8",
            "23b8a450fad74a588b5b35e95e18b0be",
            "937d012da6774cf8b1f67a1d4cd9578f",
            "fac69a31cddc41c3b83b58ece6af8960"
          ]
        },
        "id": "Uj0rcaxfgCKY",
        "outputId": "9ccb52a8-bd11-487f-b12e-8a013395e2a8"
      },
      "execution_count": null,
      "outputs": [
        {
          "output_type": "stream",
          "name": "stdout",
          "text": [
            "Ratings columns: Index(['userId', 'movieId', 'rating', 'timestamp'], dtype='object')\n",
            "Movies columns: Index(['movieId', 'title', 'genres'], dtype='object')\n"
          ]
        },
        {
          "output_type": "display_data",
          "data": {
            "text/plain": [
              "  0%|          | 0/15 [00:00<?, ?it/s]"
            ],
            "application/vnd.jupyter.widget-view+json": {
              "version_major": 2,
              "version_minor": 0,
              "model_id": "e7e7d2ea22144011b1780ce32e5923ab"
            }
          },
          "metadata": {}
        },
        {
          "output_type": "stream",
          "name": "stdout",
          "text": [
            "Top 10 ALS Recommendations: []\n"
          ]
        }
      ]
    },
    {
      "cell_type": "markdown",
      "source": [
        "This code implements a movie recommendation system using Alternating Least Squares (ALS) from the implicit library, which is commonly used for collaborative filtering with implicit feedback data (e.g., ratings). The system takes user ratings from a ratings.csv file, builds a user-item interaction matrix, and then applies ALS to identify latent factors for each user and movie. It provides personalized movie recommendations by predicting movies that a user is likely to enjoy based on their previous ratings and the behavior of similar users. The model is trained on this sparse matrix, and recommendations are generated by filtering out movies already rated by the user. The resulting top-N movie recommendations are then mapped to their titles from the movies.csv dataset."
      ],
      "metadata": {
        "id": "TUugOx1zkTsE"
      }
    },
    {
      "cell_type": "code",
      "source": [
        "import pandas as pd\n",
        "from surprise import Reader, Dataset, SVD\n",
        "from surprise.model_selection import train_test_split\n",
        "from surprise import accuracy\n",
        "from sklearn.feature_extraction.text import TfidfVectorizer\n",
        "from sklearn.metrics.pairwise import cosine_similarity\n"
      ],
      "metadata": {
        "id": "pKioPBoAg-1o"
      },
      "execution_count": null,
      "outputs": []
    },
    {
      "cell_type": "code",
      "source": [
        "\n",
        "movie_ratings = pd.merge(ratings, movies[['movieId', 'title', 'genres']], on='movieId')\n",
        "\n",
        "\n",
        "print(movie_ratings.head())\n"
      ],
      "metadata": {
        "colab": {
          "base_uri": "https://localhost:8080/"
        },
        "id": "L3lnX2DahEDa",
        "outputId": "12f60342-bb14-4f29-f5ef-497a3c86c7fb"
      },
      "execution_count": null,
      "outputs": [
        {
          "output_type": "stream",
          "name": "stdout",
          "text": [
            "   userId  movieId  rating  timestamp                        title  \\\n",
            "0       1        1     4.0  964982703             Toy Story (1995)   \n",
            "1       1        3     4.0  964981247      Grumpier Old Men (1995)   \n",
            "2       1        6     4.0  964982224                  Heat (1995)   \n",
            "3       1       47     5.0  964983815  Seven (a.k.a. Se7en) (1995)   \n",
            "4       1       50     5.0  964982931   Usual Suspects, The (1995)   \n",
            "\n",
            "                                        genres  \n",
            "0  Adventure|Animation|Children|Comedy|Fantasy  \n",
            "1                               Comedy|Romance  \n",
            "2                        Action|Crime|Thriller  \n",
            "3                             Mystery|Thriller  \n",
            "4                       Crime|Mystery|Thriller  \n"
          ]
        }
      ]
    },
    {
      "cell_type": "markdown",
      "source": [
        "This code merges the ratings and movies datasets on the movieId column, adding movie titles and genres to the ratings data. The result is a new dataframe, movie_ratings, which is then displayed using **print(movie_ratings.head()).**"
      ],
      "metadata": {
        "id": "F6h6ZiusksBU"
      }
    },
    {
      "cell_type": "code",
      "source": [
        "\n",
        "reader = Reader(rating_scale=(1, 5))\n",
        "data = Dataset.load_from_df(movie_ratings[['userId', 'movieId', 'rating']], reader)\n",
        "\n",
        "\n",
        "trainset, testset = train_test_split(data, test_size=0.2)\n",
        "\n",
        "\n",
        "svd = SVD()\n",
        "svd.fit(trainset)\n",
        "\n",
        "predictions = svd.test(testset)\n",
        "print(\"RMSE: \", accuracy.rmse(predictions))\n",
        "\n",
        "\n",
        "uid = str(1)\n",
        "iid = str(50)\n",
        "pred = svd.predict(uid, iid)\n",
        "print(pred)\n"
      ],
      "metadata": {
        "colab": {
          "base_uri": "https://localhost:8080/"
        },
        "id": "OOFyjer9hFDI",
        "outputId": "0a7ce3f7-f48e-4c23-ffcb-4a478a3d9abf"
      },
      "execution_count": null,
      "outputs": [
        {
          "output_type": "stream",
          "name": "stdout",
          "text": [
            "RMSE: 0.8645\n",
            "RMSE:  0.8644647103451446\n",
            "user: 1          item: 50         r_ui = None   est = 3.50   {'was_impossible': False}\n"
          ]
        }
      ]
    },
    {
      "cell_type": "markdown",
      "source": [
        "This code implements a movie recommendation system using the SVD (Singular Value Decomposition) algorithm from the Surprise library. It begins by preparing the data using the Reader and Dataset classes, loading the ratings into a format suitable for model training. The data is split into training and test sets using train_test_split. The SVD model is then trained on the training data (trainset) and evaluated on the test data (testset) using Root Mean Squared Error (RMSE) to assess prediction accuracy. Finally, it predicts the rating for a specific user-item pair (user 1, movie 50) and prints the predicted rating."
      ],
      "metadata": {
        "id": "2Uptx2uak9kE"
      }
    },
    {
      "cell_type": "code",
      "source": [
        "\n",
        "tfidf = TfidfVectorizer(stop_words='english')\n",
        "\n",
        "\n",
        "tfidf_matrix = tfidf.fit_transform(movies['genres'])\n",
        "\n",
        "\n",
        "cosine_sim = cosine_similarity(tfidf_matrix, tfidf_matrix)\n",
        "\n",
        "def get_movie_recommendations(title, cosine_sim=cosine_sim):\n",
        "    idx = movies[movies['title'] == title].index[0]\n",
        "    sim_scores = list(enumerate(cosine_sim[idx]))\n",
        "    sim_scores = sorted(sim_scores, key=lambda x: x[1], reverse=True)\n",
        "    sim_scores = sim_scores[1:11]\n",
        "    movie_indices = [i[0] for i in sim_scores]\n",
        "    return movies['title'].iloc[movie_indices]\n",
        "\n",
        "\n",
        "recommended_movies = get_movie_recommendations('Toy Story (1995)')\n",
        "print(recommended_movies)\n"
      ],
      "metadata": {
        "colab": {
          "base_uri": "https://localhost:8080/"
        },
        "id": "Tl7qy4oEhJcC",
        "outputId": "325f30b7-6432-4f41-e52f-81b6a07d7906"
      },
      "execution_count": null,
      "outputs": [
        {
          "output_type": "stream",
          "name": "stdout",
          "text": [
            "1706                                          Antz (1998)\n",
            "2355                                   Toy Story 2 (1999)\n",
            "2809       Adventures of Rocky and Bullwinkle, The (2000)\n",
            "3000                     Emperor's New Groove, The (2000)\n",
            "3568                                Monsters, Inc. (2001)\n",
            "6194                                     Wild, The (2006)\n",
            "6486                               Shrek the Third (2007)\n",
            "6948                       Tale of Despereaux, The (2008)\n",
            "7760    Asterix and the Vikings (Astérix et les Viking...\n",
            "8219                                         Turbo (2013)\n",
            "Name: title, dtype: object\n"
          ]
        }
      ]
    },
    {
      "cell_type": "markdown",
      "source": [
        "\n",
        "*   This code uses TF-IDF to vectorize movie genres and calculates cosine similarity between movies.\n",
        "*  The function get_movie_recommendations takes a movie title, finds the most similar movies based on genre similarity, and returns the top 10 recommendations.\n",
        "* It then prints the recommendations for \"Toy Story (1995)  \n",
        "\n",
        "\n",
        "\n",
        "\n"
      ],
      "metadata": {
        "id": "EYIf-7bFlOk9"
      }
    },
    {
      "cell_type": "code",
      "source": [
        "def hybrid_recommendation(user_id, movie_name, collaborative_model=svd, cosine_sim=cosine_sim):\n",
        "\n",
        "    collab_pred = collaborative_model.predict(str(user_id), str(movies[movies['title'] == movie_name]['movieId'].values[0]))\n",
        "\n",
        "\n",
        "    content_recs = get_movie_recommendations(movie_name)\n",
        "\n",
        "    return collab_pred, content_recs\n",
        "\n",
        "\n",
        "user_id = 1\n",
        "movie_name = 'Toy Story (1995)'\n",
        "collab_pred, content_recs = hybrid_recommendation(user_id, movie_name)\n",
        "print(f\"Collaborative Filtering Prediction: {collab_pred}\")\n",
        "print(f\"Content-Based Recommendations: {content_recs}\")\n"
      ],
      "metadata": {
        "colab": {
          "base_uri": "https://localhost:8080/"
        },
        "id": "I2VT_WXhhdLu",
        "outputId": "65f7b750-abcc-4ff2-a92d-17ada33e4257"
      },
      "execution_count": null,
      "outputs": [
        {
          "output_type": "stream",
          "name": "stdout",
          "text": [
            "Collaborative Filtering Prediction: user: 1          item: 1          r_ui = None   est = 3.50   {'was_impossible': False}\n",
            "Content-Based Recommendations: 1706                                          Antz (1998)\n",
            "2355                                   Toy Story 2 (1999)\n",
            "2809       Adventures of Rocky and Bullwinkle, The (2000)\n",
            "3000                     Emperor's New Groove, The (2000)\n",
            "3568                                Monsters, Inc. (2001)\n",
            "6194                                     Wild, The (2006)\n",
            "6486                               Shrek the Third (2007)\n",
            "6948                       Tale of Despereaux, The (2008)\n",
            "7760    Asterix and the Vikings (Astérix et les Viking...\n",
            "8219                                         Turbo (2013)\n",
            "Name: title, dtype: object\n"
          ]
        }
      ]
    },
    {
      "cell_type": "markdown",
      "source": [
        "\n",
        "*  **Hybrid Recommendation:** Combines collaborative filtering (SVD) and content-based filtering (cosine similarity).\n",
        "*  **Function:** hybrid_recommendation predicts the rating for a given movie (collab_pred) and returns top 10 similar movies based on genre (content_recs).\n",
        "Input: Takes user_id and movie_name.\n",
        "*  **Output:**Prints collaborative filtering prediction and content-based recommendations for the movie \"Toy Story (1995)\"."
      ],
      "metadata": {
        "id": "Z363rQDtldom"
      }
    },
    {
      "cell_type": "code",
      "source": [
        "def hybrid_recommendation(user_id, movie_name, collaborative_model=svd, cosine_sim=cosine_sim):\n",
        "\n",
        "    movie_id = movies[movies['title'] == movie_name]['movieId'].values[0]  # Get movieId for collaborative filtering\n",
        "    collab_pred = collaborative_model.predict(str(user_id), str(movie_id))\n",
        "\n",
        "\n",
        "    content_recs = get_movie_recommendations(movie_name)\n",
        "\n",
        "    return collab_pred, content_recs\n"
      ],
      "metadata": {
        "id": "fksqPT95hqGp"
      },
      "execution_count": null,
      "outputs": []
    },
    {
      "cell_type": "code",
      "source": [
        "def get_user_input():\n",
        "\n",
        "    print(\"Available Movies: \", movies['title'].head(10).to_list())  # Displaying the first 10 movie titles for user reference\n",
        "    movie_name = input(\"Enter a movie title from the list: \")\n",
        "\n",
        "\n",
        "    if movie_name not in movies['title'].values:\n",
        "        print(\"Movie not found. Please enter a valid movie title from the list.\")\n",
        "        return None, None\n",
        "\n",
        "\n",
        "    user_id = input(\"Enter your user ID: \")\n",
        "\n",
        "    try:\n",
        "\n",
        "        user_id = int(user_id)\n",
        "    except ValueError:\n",
        "        print(\"Invalid user ID. Please enter a valid number.\")\n",
        "        return None, None\n",
        "\n",
        "    return user_id, movie_name\n"
      ],
      "metadata": {
        "id": "4kM20oUWhr6O"
      },
      "execution_count": null,
      "outputs": []
    },
    {
      "cell_type": "code",
      "source": [
        "def run_recommendation_system():\n",
        "    print(\"Welcome to the Movie Recommendation System!\\n\")\n",
        "\n",
        "    user_id, movie_name = get_user_input()\n",
        "\n",
        "    if user_id is not None and movie_name is not None:\n",
        "\n",
        "        collab_pred, content_recs = hybrid_recommendation(user_id, movie_name)\n",
        "\n",
        "\n",
        "        print(f\"\\nCollaborative Filtering Prediction for user {user_id} and movie '{movie_name}':\")\n",
        "        print(f\"Predicted rating: {collab_pred.est:.2f}\")\n",
        "\n",
        "        print(\"\\nContent-Based Recommendations based on movie '{}':\".format(movie_name))\n",
        "        for i, rec in enumerate(content_recs, 1):\n",
        "            print(f\"{i}. {rec}\")\n",
        "    else:\n",
        "        print(\"Please enter valid inputs.\")\n",
        "\n",
        "\n",
        "run_recommendation_system()\n"
      ],
      "metadata": {
        "colab": {
          "base_uri": "https://localhost:8080/"
        },
        "id": "JFEIeZLphuH5",
        "outputId": "185f0efe-4603-4ab6-eddc-b61bd17abb27"
      },
      "execution_count": null,
      "outputs": [
        {
          "output_type": "stream",
          "name": "stdout",
          "text": [
            "Welcome to the Movie Recommendation System!\n",
            "\n",
            "Available Movies:  ['Toy Story (1995)', 'Jumanji (1995)', 'Grumpier Old Men (1995)', 'Waiting to Exhale (1995)', 'Father of the Bride Part II (1995)', 'Heat (1995)', 'Sabrina (1995)', 'Tom and Huck (1995)', 'Sudden Death (1995)', 'GoldenEye (1995)']\n",
            "Enter a movie title from the list: Toy Story (1995)\n",
            "Enter your user ID: 1\n",
            "\n",
            "Collaborative Filtering Prediction for user 1 and movie 'Toy Story (1995)':\n",
            "Predicted rating: 3.50\n",
            "\n",
            "Content-Based Recommendations based on movie 'Toy Story (1995)':\n",
            "1. Antz (1998)\n",
            "2. Toy Story 2 (1999)\n",
            "3. Adventures of Rocky and Bullwinkle, The (2000)\n",
            "4. Emperor's New Groove, The (2000)\n",
            "5. Monsters, Inc. (2001)\n",
            "6. Wild, The (2006)\n",
            "7. Shrek the Third (2007)\n",
            "8. Tale of Despereaux, The (2008)\n",
            "9. Asterix and the Vikings (Astérix et les Vikings) (2006)\n",
            "10. Turbo (2013)\n"
          ]
        }
      ]
    },
    {
      "cell_type": "markdown",
      "source": [
        "### **conclusion:**  the hybrid recommendation system effectively combines both collaborative filtering and content-based filtering to offer personalized movie suggestions. By leveraging the strengths of both methods—collaborative filtering for user behavior-based predictions and content-based filtering for genre similarity—the system provides more accurate and diverse recommendations. This approach ensures that users receive suggestions tailored not only to their past preferences but also to the content characteristics of the movies they enjoy."
      ],
      "metadata": {
        "id": "9xSmbusDl9RH"
      }
    },
    {
      "cell_type": "markdown",
      "source": [],
      "metadata": {
        "id": "7qQ1LdkCih5-"
      }
    }
  ]
}